{
 "cells": [
  {
   "cell_type": "code",
   "execution_count": 4,
   "metadata": {
    "collapsed": false
   },
   "outputs": [
    {
     "name": "stdout",
     "output_type": "stream",
     "text": [
      "Populating the interactive namespace from numpy and matplotlib\n"
     ]
    },
    {
     "name": "stderr",
     "output_type": "stream",
     "text": [
      "C:\\Users\\Marija\\Anaconda2\\lib\\site-packages\\IPython\\core\\magics\\pylab.py:161: UserWarning: pylab import has clobbered these variables: ['Text', 'Button', 'Widget', 'interactive', 'annotate']\n",
      "`%matplotlib` prevents importing * from pylab and numpy\n",
      "  \"\\n`%matplotlib` prevents importing * from pylab and numpy\"\n"
     ]
    }
   ],
   "source": [
    "import sys\n",
    "import numpy as np\n",
    "import scipy as sp\n",
    "import sklearn\n",
    "from sklearn.preprocessing import PolynomialFeatures\n",
    "import matplotlib.pyplot as plt\n",
    "%pylab inline\n",
    "#from ipywidgets import interact, interactive, fixed, interact_manual\n",
    "import ipywidgets as widgets\n",
    "from IPython.utils.py3compat import annotate\n",
    "from IPython.display import display\n",
    "#from ipywidgets import FloatSlider\n",
    "from ipywidgets import *"
   ]
  },
  {
   "cell_type": "code",
   "execution_count": null,
   "metadata": {
    "collapsed": true
   },
   "outputs": [],
   "source": [
    "#sys.path.append"
   ]
  },
  {
   "cell_type": "code",
   "execution_count": 3,
   "metadata": {
    "collapsed": true
   },
   "outputs": [],
   "source": [
    "'''package fer.apr.DZ1;\n",
    "\n",
    "import fer.apr.DZ2.HookeJeeves;\n",
    "\n",
    "import java.io.*;\n",
    "import java.util.*;\n",
    "\n",
    "import java.util.Arrays;\n",
    "\n",
    "/**\n",
    " * Created by Marija on 22.10.2016..\n",
    " */\n",
    " '''\n",
    "import numpy as np\n",
    "\n",
    "class Matrix:\n",
    "    #private static double EPSILON = 1E-6;\n",
    "    #int numberOfRows;\n",
    "    #int numberOfColumns;\n",
    "    #double[][] elements;\n",
    "\n",
    "    def __init__(self, rowNumber, columnNumber, elements):\n",
    "        self.numberOfRows = rowNumber\n",
    "        self.numberOfColumns = columnNumber\n",
    "        self.elements = elements\n",
    "        print self.numberOfRows\n",
    "\n",
    "\n",
    "    def getElements(self):\n",
    "        return self.elements\n",
    "\n",
    "    @staticmethod\n",
    "    def printMatrix(a):\n",
    "        #StringBuilder sb = new StringBuilder();\n",
    "        #sb.append(\"[\\n\");\n",
    "        outputString = \"[\\n\"\n",
    "        #for(int i = 0; i < a.numberOfRows; i ++){\n",
    "        #print \"a.getRowsCount() = \" +str(a.getRowsCount())\n",
    "        for i in range(a.getRowsCount()):\n",
    "            outputString += \"[ \"\n",
    "            for j in range(a.getColsCount()):\n",
    "                #TODO gornji ili donji?\n",
    "                # outputString += a.elements[i][j]\n",
    "                outputString += str(a.elements[i,j])\n",
    "                outputString += \"\\t\"\n",
    "            outputString += \"]\\n\"\n",
    "\n",
    "        outputString += \"]\\n\"\n",
    "\n",
    "        print outputString\n",
    "\n",
    "\n",
    "    #pridruzivanje\n",
    "    def makeEqualTo(self, B):\n",
    "        self.numberOfColumns = B.getColsCount()\n",
    "        self.numberOfRows = B.getRowsCount()\n",
    "        self.elements = np.array(B.getElements())\n",
    "        return B\n",
    "\n",
    "\n",
    "\n",
    "    '''\n",
    "    public void readFromTxt(String pathToFile) throws IOException {\n",
    "        BufferedReader br = new BufferedReader(new FileReader(pathToFile));\n",
    "        try {\n",
    "            StringBuilder sb = new StringBuilder();\n",
    "            String line = br.readLine();\n",
    "            /*//String[] matrixRow = new String[];\n",
    "            String[] matrixRowStringArray = line.trim().split(\"\\\\s+\");\n",
    "            double[] rowElements = new double[matrixRowStringArray.length];\n",
    "            for(int i = 0; i < matrixRowStringArray.length; i++){\n",
    "                rowElements[i] = Double.parseDouble(matrixRowStringArray[i]);\n",
    "            }*/\n",
    "            List<double[]> elementsArrayList = new ArrayList<double[]>();\n",
    "            while (line != null) {\n",
    "                //String[] matrixRow = new String[];\n",
    "                String[] matrixRowStringArray = line.trim().split(\"\\\\s+\");\n",
    "                double[] rowElements = new double[matrixRowStringArray.length];\n",
    "                for(int i = 0; i < matrixRowStringArray.length; i++){\n",
    "                    rowElements[i] = Double.parseDouble(matrixRowStringArray[i]);\n",
    "                }\n",
    "                //imam redak [[el][el][el][el][el]]\n",
    "                //double[][] arr = Arrays.copyOf(this.elements, this.elements.length + 1);\n",
    "                //arr[this.elements.length] = rowElements;\n",
    "                //this.elements = arr;\n",
    "\n",
    "                elementsArrayList.add(rowElements);\n",
    "\n",
    "\n",
    "                line = br.readLine();\n",
    "            }\n",
    "\n",
    "            elementsArrayList.toArray(this.elements);\n",
    "\n",
    "        } finally {\n",
    "            br.close();\n",
    "        }\n",
    "    }\n",
    "\n",
    "    public void writeToTxt(String pathToFile) throws IOException{\n",
    "        StringBuilder sb = new StringBuilder();\n",
    "        for(int i = 0; i < numberOfRows; i++){\n",
    "            for(int j = 0; j < numberOfColumns; j++){\n",
    "                sb.append(this.elements[i][j]);\n",
    "                sb.append(\"\\t\");\n",
    "            }\n",
    "            sb.append(\"\\n\");\n",
    "\n",
    "        }\n",
    "        //String everything = sb.toString();\n",
    "\n",
    "        Writer writer = new BufferedWriter(new OutputStreamWriter(\n",
    "                new FileOutputStream(\"matrix.out\"), \"UTF-8\"));\n",
    "        writer.write(sb.toString());\n",
    "        writer.close();\n",
    "\n",
    "    }\n",
    "\n",
    "    public void writeToStdout(){\n",
    "        for(int i = 0; i < numberOfRows; i++){\n",
    "            for(int j = 0; j < numberOfColumns; j++){\n",
    "                System.out.print(this.elements[i][j]);\n",
    "                System.out.print(\"\\t\");\n",
    "            }\n",
    "            System.out.print(\"\\n\");\n",
    "        }\n",
    "    }\n",
    "    '''\n",
    "\n",
    "    def equals(self, obj):\n",
    "        if (self == obj):\n",
    "            return True\n",
    "        if (obj == None):\n",
    "            return False\n",
    "        #TODO\n",
    "        #if (getClass() != obj.getClass())\n",
    "            #return false;\n",
    "        #other = (Matrix)obj\n",
    "        if self.getColsCount() != obj.getColsCount():\n",
    "            return False\n",
    "        #TODO\n",
    "        #if (!Arrays.deepEquals(elements, other.elements))\n",
    "            #return false;\n",
    "        if self.getRowsCount() != self.getRowsCount():\n",
    "            return False\n",
    "        return True\n",
    "\n",
    "\n",
    "\n",
    "    def getElement(self, row, column):\n",
    "        if row >= self.getRowsCount() or column >= self.getColsCount():\n",
    "            #throw new IndexOutOfBoundsException(\"Uneseni indeks je izvan opsega matrice.\");\n",
    "            print \"Uneseni indeks je izvan opsega matrice.\"\n",
    "        if (row < 0 or column < 0):\n",
    "            #throw new IndexOutOfBoundsException(\"Indeks mora biti pozitivan broj.\");\n",
    "            print \"Indeks mora biti pozitivan broj.\"\n",
    "        test = self.elements[row,column]\n",
    "        return self.elements[row,column]\n",
    "\n",
    "\n",
    "\n",
    "    def setElement(self, row, column, value):\n",
    "        if (row >= self.numberOfRows or column >= self.numberOfColumns):\n",
    "            #throw new IndexOutOfBoundsException(\"Uneseni indeks je izvan opsega matrice.\");\n",
    "            print \"Uneseni indeks je izvan opsega matrice.\"\n",
    "        if (row < 0 or column < 0):\n",
    "            #throw new IndexOutOfBoundsException(\"Indeks mora biti pozitivan broj.\");\n",
    "            print \"Indeks mora biti pozitivan broj.\"\n",
    "        self.elements[row, column] = value\n",
    "        return self\n",
    "\n",
    "\n",
    "\n",
    "    def getRowsCount(self):\n",
    "        return self.numberOfRows\n",
    "\n",
    "\n",
    "    def getColsCount(self):\n",
    "        return self.numberOfColumns\n",
    "\n",
    "    @staticmethod\n",
    "    #TODO assert a i b?\n",
    "    def add(a, b):\n",
    "        if(a.numberOfColumns != b.numberOfColumns or a.numberOfRows != b.numberOfRows):\n",
    "            print \"Matrice nisu jednakih dimentija i ne mogu se zbrojiti.\"\n",
    "            return None\n",
    "\n",
    "\n",
    "        #double [][] resultElements = new double[a.numberOfRows][a.numberOfColumns];\n",
    "        resultElements = np.empty([a.numberOfRows, a.numberOfColumns], dtype=np.float64)\n",
    "        for i in range(a.numberOfRows):\n",
    "            for j in range(a.numberOfColumns):\n",
    "                #TODO gornji ili donji redak?\n",
    "                #resultElements[i][j] = a.elements[i][j] + b.elements[i][j]\n",
    "                resultElements[i,j] = a.elements[i,j] + b.elements[i,j]\n",
    "\n",
    "\n",
    "        resultMatrix = Matrix(a.numberOfRows, a.numberOfColumns, resultElements)\n",
    "        return resultMatrix\n",
    "\n",
    "    @staticmethod\n",
    "    def subtract(a, b):\n",
    "        if(a.numberOfColumns != b.numberOfColumns or a.numberOfRows != b.numberOfRows):\n",
    "            print \"Matrice nisu jednakih dimentija i oduzimanje se ne moze provesti.\"\n",
    "            return None\n",
    "\n",
    "        resultElements = np.empty([a.numberOfRows,a.numberOfColumns], dtype = np.float64)\n",
    "        for i in range(a.numberOfRows):\n",
    "            for j in range (a.numberOfColumns):\n",
    "                #TODO gornji ili donji\n",
    "                #resultElements[i][j] = a.elements[i][j] - b.elements[i][j];\n",
    "                resultElements[i,j] = a.elements[i,j] - b.elements[i,j]\n",
    "        resultMatrix = Matrix(a.numberOfRows, a.numberOfColumns, resultElements)\n",
    "        return resultMatrix\n",
    "\n",
    "    def plusEquals(self, matrix):\n",
    "        #if (self.getColsCount() != matrix.getColsCount() || this.getRowsCount() != matrix.getRowsCount())\n",
    "            #throw new IncompatibleOperandException(\"Matrice su razlicitih dimenzija.\");\n",
    "        #for (int i = this.getRowsCount() - 1; i >= 0; --i)\n",
    "        for i in range(self.getRowsCount() - 1, -1, -1):\n",
    "            #for (int j = this.getColsCount() - 1; j >= 0; --j)\n",
    "            for j in range(self.getColsCount() - 1, -1, -1):\n",
    "                self.setElement(i, j, self.getElement(i, j) + matrix.getElement(i, j))\n",
    "        return self\n",
    "\n",
    "    def minusEquals(self, matrix):\n",
    "        #if (self.getColsCount() != matrix.getColsCount() || this.getRowsCount() != matrix.getRowsCount())\n",
    "            #throw new IncompatibleOperandException(\"Matrice su razlicitih dimenzija.\");\n",
    "        #for (int i = this.getRowsCount() - 1; i >= 0; --i)\n",
    "        for i in range(self.getRowsCount() - 1, -1, -1):\n",
    "            #for (int j = this.getColsCount() - 1; j >= 0; --j)\n",
    "            for j in range(self.getColsCount() - 1, -1, -1):\n",
    "                self.setElement(i, j, self.getElement(i, j) - matrix.getElement(i, j))\n",
    "        return self\n",
    "\n",
    "\n",
    "    def multiply(self, matrix):\n",
    "        #if (self.getColsCount() != matrix.getColsCount() || this.getRowsCount() != matrix.getRowsCount())\n",
    "            #throw new IncompatibleOperandException(\"Matrice su razlicitih dimenzija.\");\n",
    "        #for (int i = this.getRowsCount() - 1; i >= 0; --i)\n",
    "        elements = np.empty([self.getRowsCount()][matrix.getColsCount()], dtype=np.float64)\n",
    "        for i in range(self.getRowsCount() - 1, -1, -1):\n",
    "            #for (int j = this.getColsCount() - 1; j >= 0; --j)\n",
    "            for j in range(matrix.getColsCount() - 1, -1, -1):\n",
    "                for k in range(matrix.getRowsCount() - 1, -1, -1):\n",
    "                    elements[i,j] += self.getElement(i,k) * matrix.getElement(k,j)\n",
    "        return Matrix(self.getRowsCount(), matrix.getColsCount(), elements)\n",
    "\n",
    "    @staticmethod\n",
    "    def multiply(a, b):\n",
    "        if(a.numberOfColumns != b.numberOfRows):\n",
    "            print \"Matrice nisu kompatibilne za mnozenje.\"\n",
    "            return None\n",
    "\n",
    "        #double [][] resultElements = new double[a.numberOfRows][b.numberOfColumns];\n",
    "        resultElements = np.empty([a.numberOfRows][b.numberOfColumns], dtype=np.float64)\n",
    "        for i in range(a.numberOfRows):\n",
    "            for j in range (b.numberOfColumns):\n",
    "                resultElement = 0\n",
    "                for k in range(a.numberOfColumns):\n",
    "                    #TODO gornji ili donji?\n",
    "                    # resultElement = resultElement + a.elements[i][k]*b.elements[k][j];\n",
    "                    resultElement = resultElement + a.elements[i,k] * b.elements[k,j]\n",
    "                #TODO\n",
    "                resultElements[i,j] = resultElement\n",
    "        resultMatrix = Matrix(a.numberOfRows, b.numberOfColumns, resultElements)\n",
    "        return resultMatrix\n",
    "\n",
    "    @staticmethod\n",
    "    def scalarMultiply(matrix, scalar):\n",
    "        #double[][] resultElements = new double[matrix.numberOfRows][matrix.numberOfColumns];\n",
    "        resultElements = np.empty([matrix.numberOfRows,matrix.numberOfColumns], dtype=np.float64)\n",
    "        for i in range(matrix.getRowsCount()):\n",
    "            for j in range(matrix.getColsCount()):\n",
    "                #TODO\n",
    "                #resultElements[i][j] = matrix.elements[i][j] * scalar;\n",
    "                resultElements[i,j] = matrix.elements[i,j] * scalar\n",
    "        resultMatrix = Matrix(matrix.numberOfRows, matrix.numberOfColumns, resultElements)\n",
    "        return resultMatrix\n",
    "\n",
    "    @staticmethod\n",
    "    def sanityCheck(d):\n",
    "        EPSILON = 1E-6\n",
    "        if((abs(round(d) - d) < EPSILON) and (abs(round(d) - d) != 0) ):\n",
    "            print \"Pojavila se vrijednost \" + str(d) + \" koja ima decimalno odstupanje od cijelog broja manje od epsilon = \" + str(EPSILON) + \". Postavljam na \" + str(round(d))\n",
    "            return round(d)\n",
    "        return d\n",
    "\n",
    "    @staticmethod\n",
    "    def copyPoint(point):\n",
    "        '''copy = np.empty([point.getRowsCount()][point.getColsCount()], dtype= np.float64)\n",
    "        for i in range(point.getRowsCount()):\n",
    "            copy[i]=np.array(point.getElements()[i])\n",
    "\n",
    "        copyMatrix = Matrix(point.getRowsCount(), point.getColsCount(), copy)\n",
    "        return copyMatrix\n",
    "        '''\n",
    "        return Matrix(point.getRowsCount(), point.getColsCount(), np.array(point.getElements()))\n",
    "\n",
    "    @staticmethod\n",
    "    def forwardSubstitution(a, b):\n",
    "        if(b.numberOfRows!=a.numberOfRows):\n",
    "            print \"Vektor b nije jednake dimenzije kao matrica, nije moguce provesti supstituciju unaprijed.\"\n",
    "        resultB = Matrix(b.numberOfRows, b.numberOfColumns, np.array(b.elements))\n",
    "        #double[][] resultElements = new double[b.numberOfRows][1];\n",
    "        resultElements = np.empty([b.numberOfRows][1], dtype=np.float64)\n",
    "\n",
    "        for i in range(a.numberOfRows - 1):\n",
    "            for j in range(i + 1, a.numberOfRows, 1):\n",
    "                #TODO\n",
    "                #resultB.elements[j][0] = sanityCheck(resultB.elements[j][0] - a.elements[j][i]*resultB.elements[i][0]);\n",
    "                resultB.elements[j,0] = Matrix.sanityCheck(resultB.elements[j,0] - a.elements[j,i] * resultB.elements[i,0])\n",
    "        return resultB\n",
    "\n",
    "    @staticmethod\n",
    "    def backwardSupstitution(a, vector):\n",
    "        if(vector.numberOfRows!=a.numberOfRows):\n",
    "            print \"Vektor y nije jednake dimenzije kao matrica, nije moguce provesti supstituciju unatrag.\"\n",
    "        for i in range(a.numberOfRows-1, -1, -1):\n",
    "            EPSILON = 1E-6\n",
    "            if(abs(a.getElement(i, i))<EPSILON):\n",
    "                print \"Gornja trokutasta matrica na dijagonali sadrzi nulu. Nije moguce provesti supstituciju unatrag\"\n",
    "                return None\n",
    "            vector.setElement(i, 0, Matrix.sanityCheck(vector.getElement(i, 0)/a.getElement(i,i)))\n",
    "            for j in range(i):\n",
    "                vector.setElement(j, 0, Matrix.sanityCheck(vector.getElement(j, 0)-a.getElement(j, i)*vector.getElement(i, 0)))\n",
    "        #return new Matrica(1, vector.colSize(), vector.getElements());\n",
    "        return vector\n",
    "\n",
    "    @staticmethod\n",
    "    def swapRowsOfMatrix(matrix, firstRow, secondRow):\n",
    "        #TODO provjeri ispravnost\n",
    "        tmp = matrix.elements[firstRow,:]\n",
    "        matrix.elements[firstRow] = matrix.elements[secondRow,:]\n",
    "        matrix.elements[secondRow,:] = tmp\n",
    "\n",
    "    @staticmethod\n",
    "    def lupDecomposition(a, permutationMatrix, lup):\n",
    "        if (a.numberOfRows != a.numberOfColumns):\n",
    "            #throw new IllegalArgumentException(\"Matrica mora biti kvadratna.\");\n",
    "            print \"Matrica mora biti kvadratna.\"\n",
    "        identityMatrixElements = Matrix.createIdentityMatrixElements(a.numberOfRows)\n",
    "        workingMatrix = Matrix.copyPoint(a)\n",
    "        Matrix.printMatrix(workingMatrix)\n",
    "        for i in range(a.numberOfRows - 1):\n",
    "            if (lup):\n",
    "                #index = findMaxApsElement(workingMatrix, i, workingMatrix.elements[i][i])\n",
    "                index = Matrix.findMaxApsElement(workingMatrix, i, workingMatrix.elements[i,i])\n",
    "                if (index != i):\n",
    "                    Matrix.swapRowsOfMatrix(permutationMatrix, i, index)\n",
    "                    Matrix.swapRowsOfMatrix(workingMatrix, i, index)\n",
    "                    print \"Obavljamo mijenjanje redaka \" + str(i) + \" i \" + str(index)\n",
    "                    Matrix.printMatrix(workingMatrix)\n",
    "            pivot = workingMatrix.getElement(i, i)\n",
    "            if (pivot == 0):\n",
    "                Matrix.printMatrix(workingMatrix)\n",
    "                print \"Pivot je jednak nuli - nije moguce provesti dekompoziciju\"\n",
    "                return None\n",
    "            for j in range(i + 1, a.numberOfRows, 1):\n",
    "                workingMatrix.setElement(j, i, Matrix.sanityCheck(workingMatrix.getElement(j, i) / float(pivot)))\n",
    "                for k in range(i + 1,a.numberOfRows, 1):\n",
    "                    workingMatrix.setElement(j, k, Matrix.sanityCheck(workingMatrix.getElement(j, k) - workingMatrix.getElement(j, i) * workingMatrix.getElement(i, k)))\n",
    "            Matrix.printMatrix(workingMatrix);\n",
    "        #TODO mozda vracati i working i permutacijsku?\n",
    "        print \"Vracam dekomponiranu matricu, a predana permutacijska matrica promijenjena je ako je bilo potrebno. Njome sada treba pomnoziti vektor b.\"\n",
    "        return workingMatrix\n",
    "\n",
    "    @staticmethod\n",
    "    def createIdentityMatrixElements(n):\n",
    "        elements = np.zeros((n,n), dtype=np.float64)\n",
    "        for i in range(n):\n",
    "            #TODO\n",
    "            #elements[i][i] = 1;\n",
    "            elements[i,i] = 1\n",
    "        return elements\n",
    "\n",
    "    @staticmethod\n",
    "    def findMaxApsElement(matrix, startIndex, value):\n",
    "        indexOfMax = startIndex\n",
    "        max = value\n",
    "        for i in range(startIndex, matrix.numberOfRows, 1):\n",
    "            if (abs(matrix.getElement(i, startIndex)) > max):\n",
    "                max = abs(matrix.getElement(i, startIndex))\n",
    "                indexOfMax = i\n",
    "        return indexOfMax\n",
    "\n",
    "    @staticmethod\n",
    "    def transpose(matrix):\n",
    "        resultElements = np.empty([matrix.numberOfColumns,matrix.numberOfRows], dtype=np.float64)\n",
    "        for i in range(matrix.numberOfRows):\n",
    "            for j in range(matrix.numberOfColumns):\n",
    "                #TODO\n",
    "                #resultElements[j][i] = matrix.elements[i][j];\n",
    "                resultElements[j,i] = matrix.elements[i,j]\n",
    "        resultMatrix = Matrix(matrix.numberOfColumns, matrix.numberOfRows, resultElements)\n",
    "        return resultMatrix\n",
    "\n",
    "    @staticmethod\n",
    "    def hasInverse(matrix):\n",
    "        if(matrix.numberOfRows != matrix.numberOfColumns):\n",
    "            print \"Matrica nije kvadratna, nema inverz\"\n",
    "            return False\n",
    "        determinant = Matrix.determinant(matrix)\n",
    "        if(determinant == 0):\n",
    "            print \"Matrica je singularna, nema inverz\"\n",
    "            return False\n",
    "        return True\n",
    "\n",
    "    @staticmethod\n",
    "    def determinant(matrix):\n",
    "        '''return matrix.elements[0][0] * matrix.elements[1][1] * matrix.elements[2][2] +\n",
    "                matrix.elements[0][1] * matrix.elements[1][2] * matrix.elements[2][0] +\n",
    "                matrix.elements[0][2] * matrix.elements[1][0] * matrix.elements[2][1] -\n",
    "                matrix.elements[2][0] * matrix.elements[1][1] * matrix.elements[0][2] -\n",
    "                matrix.elements[2][1] * matrix.elements[1][2] * matrix.elements[0][0] -\n",
    "                matrix.elements[2][2] * matrix.elements[1][0] * matrix.elements[0][1];\n",
    "        '''\n",
    "        return matrix.elements[0,0] * matrix.elements[1,1] * matrix.elements[2,2] + matrix.elements[0,1] * matrix.elements[1,2] * matrix.elements[2,0] + matrix.elements[0,2] * matrix.elements[1,0] * matrix.elements[2,1] - matrix.elements[2,0] * matrix.elements[1,1] * matrix.elements[0,2] - matrix.elements[2,1] * matrix.elements[1,2] * matrix.elements[0,0] - matrix.elements[2,2] * matrix.elements[1,0] * matrix.elements[0,1]\n",
    "\n",
    "    @staticmethod\n",
    "    def invert(matricaZaInvertirati):\n",
    "\n",
    "        #Ax = prvi stupac jedinicne\n",
    "        #=> x je prvi stupac invertirane, itd. za svaki stupac\n",
    "\n",
    "        kopijaMatriceZaInvertirati = Matrix.copyPoint(matricaZaInvertirati)\n",
    "        jedinicnaMatricaElements = Matrix.createIdentityMatrixElements(kopijaMatriceZaInvertirati.getRowsCount())#stvori jedinicnu matricu;\n",
    "        jedinicnaMatrica = Matrix(kopijaMatriceZaInvertirati.getRowsCount(), kopijaMatriceZaInvertirati.getColsCount(), jedinicnaMatricaElements)\n",
    "\n",
    "        dekomponirana = Matrix.lupDecomposition(kopijaMatriceZaInvertirati,jedinicnaMatrica,True)\n",
    "        elementiKonacneInvertiraneMatrice = np.empty([matricaZaInvertirati.getColsCount(),matricaZaInvertirati.getRowsCount()], dtype= np.float64)\n",
    "\n",
    "        for j in range(matricaZaInvertirati.getColsCount()):\n",
    "            elementiIpsilona = np.empty([matricaZaInvertirati.getRowsCount(),1], dtype=np.float64)\n",
    "            #TODO\n",
    "            # elementiIpsilona[j][0] = 1;\n",
    "            elementiIpsilona[j,0] = 1\n",
    "            y = Matrix(matricaZaInvertirati.getRowsCount(), 1, elementiIpsilona)\n",
    "            permutiraniY = Matrix.multiply(jedinicnaMatrica,y)\n",
    "            ySupstituiranUnaprijed = Matrix.forwardSubstitution(dekomponirana, permutiraniY)\n",
    "            ySupstituiranUnatrag = Matrix.backwardSupstitution(dekomponirana, ySupstituiranUnaprijed)\n",
    "\n",
    "            for i in range(ySupstituiranUnatrag.getRowsCount()):\n",
    "                #TODO\n",
    "                #elementiKonacneInvertiraneMatrice[i][j] = ySupstituiranUnatrag.getElements()[i][0];\n",
    "                elementiKonacneInvertiraneMatrice[i,j] = ySupstituiranUnatrag.getElements()[i,0]\n",
    "\n",
    "        konacnaInvertiranaMatrica = Matrix(matricaZaInvertirati.getRowsCount(), matricaZaInvertirati.getColsCount(), elementiKonacneInvertiraneMatrice)\n",
    "        return konacnaInvertiranaMatrica\n",
    "\n"
   ]
  },
  {
   "cell_type": "code",
   "execution_count": 5,
   "metadata": {
    "collapsed": true
   },
   "outputs": [],
   "source": [
    "class IFunction(object):\n",
    "\n",
    "    def valueAt(self, *args):\n",
    "        '''\n",
    "        if isinstance(args[0], np.float64):\n",
    "            self.__valueAtPoint(*args)\n",
    "        elif isinstance(args[0], Matrix):\n",
    "            self.__valueAtMatrix(*args)\n",
    "        '''\n",
    "        raise NotImplementedError\n",
    "\n",
    "    def __valueAtPoint(self, point):\n",
    "        raise NotImplementedError\n",
    "\n",
    "    def __valueAtMatrix(self, point, t=None):\n",
    "        raise NotImplementedError\n",
    "\n",
    "    def valueAtDerivativeByX1(self, point):\n",
    "        raise NotImplementedError\n",
    "\n",
    "    def valueAtDerivativeByX2(self, point):\n",
    "        raise NotImplementedError\n",
    "\n",
    "    def valueAtDerivativeByX1ThenX1(self, point):\n",
    "        raise NotImplementedError\n",
    "\n",
    "    def valueAtDerivativeByX1ThenX2(self, point):\n",
    "        raise NotImplementedError\n",
    "\n",
    "    def valueAtDerivativeByX2ThenX1(self, point):\n",
    "        raise NotImplementedError\n",
    "\n",
    "    def getNumberOfCalls(self):\n",
    "        raise NotImplementedError\n",
    "\n",
    "class AbstractFunction(IFunction):\n",
    "\n",
    "    def __init__(self):\n",
    "        self.__counter = 0\n",
    "\n",
    "    def increment(self):\n",
    "        self.__counter =+ 1\n",
    "\n",
    "    def getNumberOfCalls(self):\n",
    "        return self.__counter"
   ]
  },
  {
   "cell_type": "code",
   "execution_count": 6,
   "metadata": {
    "collapsed": true
   },
   "outputs": [],
   "source": [
    "class F3OneDimensional(AbstractFunction):\n",
    "\n",
    "    '''public F3OneDimensional() {\n",
    "        super();\n",
    "    }\n",
    "    '''\n",
    "\n",
    "    def __init__(self):\n",
    "        #super.__init__()\n",
    "        AbstractFunction.__init__(self)\n",
    "\n",
    "    '''\n",
    "    def valueAt(self, point):\n",
    "        #super.increment()\n",
    "        AbstractFunction.increment()\n",
    "        #return Math.pow(point - 3, 2);\n",
    "        return (point - 3)**2\n",
    "    '''\n",
    "\n",
    "    def valueAt(self, *args):\n",
    "        # if isinstance(args[0], np.float64):\n",
    "        #     return self.__valueAtPoint(*args)\n",
    "        # elif isinstance(args[0], int):\n",
    "        #     return self.__valueAtPoint(*args)\n",
    "        # elif isinstance(args[0], Matrix):\n",
    "        #     return self.__valueAtMatrix(*args)\n",
    "        if isinstance(args[0], Matrix):\n",
    "            return self.__valueAtMatrix(*args)\n",
    "        else:\n",
    "            return self.__valueAtPoint(*args)\n",
    "\n",
    "    def __valueAtPoint(self, point):\n",
    "        AbstractFunction.increment(self)\n",
    "        return (point - 3) ** 2\n",
    "\n",
    "    def __valueAtMatrix(self, point):\n",
    "        if(point.getColsCount()!=1 and point.getRowsCount()!=1):\n",
    "            raise ValueError(\"Tocka mora biti u jednodimenzijskom prostoru.\")\n",
    "        return F3OneDimensional.__valueAtPoint(self, point.getElement(0, 0))\n",
    "\n",
    "    '''\n",
    "    def valueAt(self, point, t):\n",
    "        return 0\n",
    "    '''\n",
    "\n",
    "    def valueAtDerivativeByX1(self, point):\n",
    "        return 0\n",
    "\n",
    "    def valueAtDerivativeByX2(self, point):\n",
    "        return 0\n",
    "\n",
    "    def valueAtDerivativeByX1ThenX1(self, point):\n",
    "        return 0\n",
    "\n",
    "    def valueAtDerivativeByX1ThenX2(self, point):\n",
    "        return 0\n",
    "\n",
    "    def valueAtDerivativeByX2ThenX1(self, point):\n",
    "        return 0\n",
    "\n",
    "    def valueAtDerivativeByX2ThenX2(self, point):\n",
    "        return 0"
   ]
  },
  {
   "cell_type": "code",
   "execution_count": 2,
   "metadata": {
    "collapsed": false
   },
   "outputs": [
    {
     "data": {
      "application/vnd.jupyter.widget-view+json": {
       "model_id": "1d2763aab6b443c99517a5045823c96c"
      }
     },
     "metadata": {},
     "output_type": "display_data"
    }
   ],
   "source": [
    "play = widgets.Play(\n",
    "#     interval=10,\n",
    "    value=50,\n",
    "    min=0,\n",
    "    max=100,\n",
    "    step=1,\n",
    "    description=\"Press play\",\n",
    "    disabled=False\n",
    ")\n",
    "slider = widgets.IntSlider()\n",
    "widgets.jslink((play, 'value'), (slider, 'value'))\n",
    "widgets.HBox([play, slider])"
   ]
  },
  {
   "cell_type": "code",
   "execution_count": 13,
   "metadata": {
    "collapsed": false
   },
   "outputs": [
    {
     "name": "stdout",
     "output_type": "stream",
     "text": [
      "8.0\n",
      "\n",
      "5.0\n",
      "\n",
      "1.0\n",
      "\n",
      "4.0\n",
      "\n",
      "3.0\n",
      "\n",
      "2.5\n",
      "\n",
      "3.0\n",
      "\n",
      "3.0\n",
      "\n",
      "3.0\n",
      "\n",
      "3.0\n",
      "\n",
      "3.0\n",
      "\n",
      "3.0\n",
      "\n",
      "3.0\n",
      "\n",
      "3.0\n",
      "\n",
      "3.0\n",
      "\n",
      "3.0\n",
      "\n",
      "3.0\n",
      "\n",
      "3.0\n",
      "\n",
      "3.0\n",
      "\n",
      "3.0\n",
      "\n",
      "3.0\n",
      "\n",
      "3.0\n",
      "\n",
      "3.0\n",
      "\n",
      "3.0\n",
      "\n",
      "3.0\n",
      "\n"
     ]
    }
   ],
   "source": [
    "inputFile = open('InteractiveOptimisationAlgorithms/HookeJeevesOutput.txt', 'r')\n",
    "playMaxOfInterval = 0\n",
    "poljeDobivenihBrojeva = []\n",
    "for line in inputFile:\n",
    "    print line\n",
    "    playMaxOfInterval = playMaxOfInterval + 1\n",
    "    #stvori polje ovih brojeva\n",
    "    poljeDobivenihBrojeva.append(float(line))"
   ]
  },
  {
   "cell_type": "code",
   "execution_count": 18,
   "metadata": {
    "collapsed": true
   },
   "outputs": [],
   "source": [
    "def f(poljeBrojeva, index):\n",
    "    f3 = F3OneDimensional()\n",
    "    yVrijednost = f3.valueAt(poljeBrojeva[index])\n",
    "    print poljeBrojeva[index], yVrijednost"
   ]
  },
  {
   "cell_type": "code",
   "execution_count": 19,
   "metadata": {
    "collapsed": false
   },
   "outputs": [
    {
     "data": {
      "application/vnd.jupyter.widget-view+json": {
       "model_id": "6c186f68cc0e4de3a0f137806a8e4abe"
      }
     },
     "metadata": {},
     "output_type": "display_data"
    }
   ],
   "source": [
    "interact(f, poljeBrojeva=fixed(poljeDobivenihBrojeva), index=widgets.IntSlider(min=0,max=playMaxOfInterval,step=1,value=0));"
   ]
  },
  {
   "cell_type": "code",
   "execution_count": 35,
   "metadata": {
    "collapsed": false
   },
   "outputs": [],
   "source": [
    "#w = interactive(f, poljeBrojeva=fixed(poljeDobivenihBrojeva), index=widgets.IntSlider(min=0,max=playMaxOfInterval,step=1,value=0))\n",
    "w = widgets.IntSlider(min=0,max=playMaxOfInterval-1,step=1,value=0)"
   ]
  },
  {
   "cell_type": "code",
   "execution_count": 36,
   "metadata": {
    "collapsed": false
   },
   "outputs": [
    {
     "data": {
      "application/vnd.jupyter.widget-view+json": {
       "model_id": "c776413554be44bfb6110605d651d1de"
      }
     },
     "metadata": {},
     "output_type": "display_data"
    }
   ],
   "source": [
    "display(w)"
   ]
  },
  {
   "cell_type": "code",
   "execution_count": 37,
   "metadata": {
    "collapsed": false
   },
   "outputs": [
    {
     "data": {
      "text/plain": [
       "['_view_name',\n",
       " 'style',\n",
       " 'layout',\n",
       " 'orientation',\n",
       " 'msg_throttle',\n",
       " 'min',\n",
       " '_range',\n",
       " 'max',\n",
       " '_model_name',\n",
       " '_view_module',\n",
       " '_model_module_version',\n",
       " 'value',\n",
       " 'readout',\n",
       " 'disabled',\n",
       " 'step',\n",
       " 'continuous_update',\n",
       " 'readout_format',\n",
       " '_dom_classes',\n",
       " '_model_module',\n",
       " '_view_module_version',\n",
       " 'description']"
      ]
     },
     "execution_count": 37,
     "metadata": {},
     "output_type": "execute_result"
    }
   ],
   "source": [
    "w.keys"
   ]
  },
  {
   "cell_type": "code",
   "execution_count": 81,
   "metadata": {
    "collapsed": false
   },
   "outputs": [
    {
     "data": {
      "application/vnd.jupyter.widget-view+json": {
       "model_id": "a5fd49dd46f24be39b22d90e7b82e4e2"
      }
     },
     "metadata": {},
     "output_type": "display_data"
    }
   ],
   "source": [
    "play = widgets.Play(\n",
    "     #interval=3,\n",
    "    value=0,\n",
    "    min=0,\n",
    "    max=playMaxOfInterval,\n",
    "    step=1,\n",
    "    description=\"Press play\",\n",
    "    disabled=False\n",
    ")\n",
    "#slider = widgets.IntSlider()\n",
    "widgets.jslink((play, 'value'), (w, 'value'))\n",
    "widgets.HBox([play, w])"
   ]
  },
  {
   "cell_type": "code",
   "execution_count": 82,
   "metadata": {
    "collapsed": false
   },
   "outputs": [
    {
     "data": {
      "application/vnd.jupyter.widget-view+json": {
       "model_id": "3df5fdfce440484794d855a04a65b6f5"
      }
     },
     "metadata": {},
     "output_type": "display_data"
    },
    {
     "data": {
      "text/plain": [
       "<function __main__.f>"
      ]
     },
     "execution_count": 82,
     "metadata": {},
     "output_type": "execute_result"
    }
   ],
   "source": [
    "interact(f, poljeBrojeva=fixed(poljeDobivenihBrojeva), index=w)"
   ]
  },
  {
   "cell_type": "code",
   "execution_count": 91,
   "metadata": {
    "collapsed": false
   },
   "outputs": [
    {
     "data": {
      "text/plain": [
       "[<matplotlib.lines.Line2D at 0xb466ef0>]"
      ]
     },
     "execution_count": 91,
     "metadata": {},
     "output_type": "execute_result"
    },
    {
     "data": {
      "image/png": "[encoded data removed]",
      "text/plain": [
       "<matplotlib.figure.Figure at 0xb719438>"
      ]
     },
     "metadata": {},
     "output_type": "display_data"
    }
   ],
   "source": [
    "f3 = F3OneDimensional()\n",
    "yValues = []\n",
    "for i in range(len(poljeDobivenihBrojeva)):\n",
    "    yValues.append(f3.valueAt(poljeDobivenihBrojeva[i]))\n",
    "plt.plot(poljeDobivenihBrojeva, yValues, 'bo')"
   ]
  },
  {
   "cell_type": "code",
   "execution_count": 92,
   "metadata": {
    "collapsed": true
   },
   "outputs": [],
   "source": [
    "def f(poljeBrojeva, index):\n",
    "    f3 = F3OneDimensional()\n",
    "    yVrijednost = f3.valueAt(poljeBrojeva[index])\n",
    "    plt.clf()\n",
    "    plt.close('all')\n",
    "    plt.figure(index)\n",
    "    plt.axis([0.0,15.0, -5.0,30.0])\n",
    "    ax = plt.gca()\n",
    "    ax.set_autoscale_on(False)\n",
    "    plt.plot(poljeBrojeva[index], yVrijednost, 'bo')\n",
    "    plt.show()"
   ]
  },
  {
   "cell_type": "code",
   "execution_count": 93,
   "metadata": {
    "collapsed": false
   },
   "outputs": [
    {
     "data": {
      "application/vnd.jupyter.widget-view+json": {
       "model_id": "aaa8c8120b464cab981fe9ff035f10f2"
      }
     },
     "metadata": {},
     "output_type": "display_data"
    },
    {
     "data": {
      "text/plain": [
       "<function __main__.f>"
      ]
     },
     "execution_count": 93,
     "metadata": {},
     "output_type": "execute_result"
    }
   ],
   "source": [
    "interact(f, poljeBrojeva=fixed(poljeDobivenihBrojeva), index=w)"
   ]
  },
  {
   "cell_type": "code",
   "execution_count": 94,
   "metadata": {
    "collapsed": false
   },
   "outputs": [
    {
     "data": {
      "application/vnd.jupyter.widget-view+json": {
       "model_id": "7829b514ab064e7080c61d7150da4dc4"
      }
     },
     "metadata": {},
     "output_type": "display_data"
    }
   ],
   "source": [
    "display(play)"
   ]
  },
  {
   "cell_type": "code",
   "execution_count": null,
   "metadata": {
    "collapsed": true
   },
   "outputs": [],
   "source": []
  },
  {
   "cell_type": "code",
   "execution_count": null,
   "metadata": {
    "collapsed": true
   },
   "outputs": [],
   "source": []
  }
 ],
 "metadata": {
  "kernelspec": {
   "display_name": "Python [conda root]",
   "language": "python",
   "name": "conda-root-py"
  },
  "language_info": {
   "codemirror_mode": {
    "name": "ipython",
    "version": 2
   },
   "file_extension": ".py",
   "mimetype": "text/x-python",
   "name": "python",
   "nbconvert_exporter": "python",
   "pygments_lexer": "ipython2",
   "version": "2.7.12"
  }
 },
 "nbformat": 4,
 "nbformat_minor": 2
}
