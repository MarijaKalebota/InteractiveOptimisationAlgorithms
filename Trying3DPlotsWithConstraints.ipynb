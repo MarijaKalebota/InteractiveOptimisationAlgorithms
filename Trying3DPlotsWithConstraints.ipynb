{
 "cells": [
  {
   "cell_type": "code",
   "execution_count": 1,
   "metadata": {
    "collapsed": false,
    "deletable": true,
    "editable": true
   },
   "outputs": [],
   "source": [
    "import sys\n",
    "import numpy as np\n",
    "import scipy as sp\n",
    "import sklearn\n",
    "from sklearn.preprocessing import PolynomialFeatures\n",
    "import matplotlib.pyplot as plt\n",
    "plt.style.use('seaborn-white')\n",
    "#%pylab inline\n",
    "%matplotlib notebook\n",
    "#from ipywidgets import interact, interactive, fixed, interact_manual\n",
    "import ipywidgets as widgets\n",
    "from IPython.utils.py3compat import annotate\n",
    "from IPython.display import display\n",
    "#from ipywidgets import FloatSlider\n",
    "from ipywidgets import *"
   ]
  },
  {
   "cell_type": "code",
   "execution_count": 2,
   "metadata": {
    "collapsed": true,
    "deletable": true,
    "editable": true
   },
   "outputs": [],
   "source": [
    "from InteractiveOptimisationAlgorithms.Functions import *\n",
    "from InteractiveOptimisationAlgorithms.Matrix import *\n",
    "from InteractiveOptimisationAlgorithms.Drawing import *\n",
    "from InteractiveOptimisationAlgorithms.Algorithms import *\n",
    "from InteractiveOptimisationAlgorithms.Constraints import *"
   ]
  },
  {
   "cell_type": "code",
   "execution_count": 3,
   "metadata": {
    "collapsed": true,
    "deletable": true,
    "editable": true
   },
   "outputs": [],
   "source": [
    "EPSILON = 1E-6\n",
    "ALPHA = 1\n",
    "BETA = 0.5\n",
    "GAMMA = 2\n",
    "SIGMA = 0.5\n",
    "PRINT = True"
   ]
  },
  {
   "cell_type": "code",
   "execution_count": 4,
   "metadata": {
    "collapsed": true,
    "deletable": true,
    "editable": true
   },
   "outputs": [],
   "source": [
    "f1 = F1RosenbrockBananaFunction()\n",
    "elements = np.array([[-1.9, 2]])\n",
    "point = Matrix(1, 2, elements)\n",
    "lower_bounds = [-100, -100]\n",
    "upper_bounds = [100, 100]\n",
    "implicit_constraint_1 = ImplicitConstraint1()\n",
    "implicit_constraint_2 = ImplicitConstraint2()\n",
    "\n",
    "implicit_constraints = [implicit_constraint_1,implicit_constraint_2]\n",
    "\n",
    "box_algorithm = BoxAlgorithm(f1, lower_bounds, upper_bounds, implicit_constraints, EPSILON, ALPHA, PRINT)\n",
    "solution_box, logger_box = box_algorithm.run(point)"
   ]
  },
  {
   "cell_type": "code",
   "execution_count": 5,
   "metadata": {
    "collapsed": true,
    "deletable": true,
    "editable": true
   },
   "outputs": [],
   "source": [
    "min_X1 = -2\n",
    "max_X1 = 3.5\n",
    "min_X2 = -2\n",
    "max_X2 = 2\n",
    "number_of_samples_of_domain = 150\n",
    "\n",
    "min_X1 = -5\n",
    "max_X1 = 5\n",
    "min_X2 = -5\n",
    "max_X2 = 6\n",
    "number_of_samples_of_domain = 150"
   ]
  },
  {
   "cell_type": "code",
   "execution_count": 6,
   "metadata": {
    "collapsed": true,
    "deletable": true,
    "editable": true
   },
   "outputs": [],
   "source": [
    "X1_for_graph_before_meshgrid = np.linspace(min_X1, max_X1, number_of_samples_of_domain)\n",
    "X2_for_graph_before_meshgrid = np.linspace(min_X2, max_X2, number_of_samples_of_domain)\n",
    "\n",
    "X1_for_graph, X2_for_graph = np.meshgrid(X1_for_graph_before_meshgrid, X2_for_graph_before_meshgrid)\n",
    "Z_for_graph = []\n",
    "for x2 in X2_for_graph_before_meshgrid:\n",
    "    Z = []\n",
    "    for x1 in X1_for_graph_before_meshgrid:\n",
    "        elements = np.array([[x1, x2]])\n",
    "        matrix_x1_x2 = Matrix(1, 2, elements)\n",
    "        Z.append(f1.valueAt(matrix_x1_x2))\n",
    "    Z_for_graph.append(Z)"
   ]
  },
  {
   "cell_type": "code",
   "execution_count": 7,
   "metadata": {
    "collapsed": true,
    "deletable": true,
    "editable": true
   },
   "outputs": [],
   "source": [
    "playMaxOfInterval = 0\n",
    "X1_from_logger = []\n",
    "X2_from_logger = []\n",
    "Z_from_logger = []\n",
    "\n",
    "for iteration in logger_box.getIterations():\n",
    "    playMaxOfInterval = playMaxOfInterval + 1\n",
    "    X1_from_logger.append(iteration.x1Value)\n",
    "    X2_from_logger.append(iteration.x2Value)\n",
    "    Z_from_logger.append(iteration.yValue)"
   ]
  },
  {
   "cell_type": "code",
   "execution_count": 8,
   "metadata": {
    "collapsed": false,
    "deletable": true,
    "editable": true
   },
   "outputs": [],
   "source": [
    "constraints = logger_box.getConstraints()\n",
    "data_of_constraints = []\n",
    "\n",
    "for constraint in constraints:\n",
    "    \n",
    "    #elements = np.array([[0,0]])\n",
    "    #matrix_x1_x2 = Matrix(1, 2, elements)\n",
    "    #print constraint.value_at(matrix_x1_x2)\n",
    "                         \n",
    "    data_of_current_constraint = []\n",
    "    #X1_of_constraint_before_meshgrid = []\n",
    "    #X2_of_constraint_before_meshgrid = []\n",
    "    Z_of_constraint = []\n",
    "    X1_of_constraint = []\n",
    "    X2_of_constraint = []\n",
    "    for x2 in X2_for_graph_before_meshgrid:\n",
    "        Z = []\n",
    "        X1_of_constraint_before_meshgrid = []\n",
    "        X2_of_constraint_before_meshgrid = []\n",
    "        #print constraint.value_at(matrix_x1_x2)\n",
    "        for x1 in X1_for_graph_before_meshgrid:\n",
    "            elements = np.array([[x1, x2]])\n",
    "            matrix_x1_x2 = Matrix(1, 2, elements)\n",
    "            #print \"JEDAN\"\n",
    "            #print constraint.value_at(matrix_x1_x2)\n",
    "            if (constraint.is_satisfied(matrix_x1_x2) is True):\n",
    "                Z.append(np.nan)\n",
    "                #print \"IF\"\n",
    "                #print constraint.value_at(matrix_x1_x2)\n",
    "            else:\n",
    "                #print \"else\"\n",
    "                Z.append(constraint.value_at(matrix_x1_x2))\n",
    "                #print constraint.value_at(matrix_x1_x2)\n",
    "            #print \"DVA\"\n",
    "            #print constraint.value_at(matrix_x1_x2)\n",
    "            #print \"\\n\"\n",
    "        Z_of_constraint.append(Z)\n",
    "    #print Z_of_constraint\n",
    "    #X1_of_constraint, X2_of_constraint = np.meshgrid(X1_of_constraint_before_meshgrid, X2_of_constraint_before_meshgrid)\n",
    "    X1_of_constraint, X2_of_constraint = np.meshgrid(X1_for_graph_before_meshgrid, X2_for_graph_before_meshgrid)\n",
    "    data_of_current_constraint.append(X1_of_constraint)\n",
    "    data_of_current_constraint.append(X2_of_constraint)\n",
    "    data_of_current_constraint.append(Z_of_constraint)\n",
    "    \n",
    "    data_of_constraints.append(data_of_current_constraint)"
   ]
  },
  {
   "cell_type": "code",
   "execution_count": 9,
   "metadata": {
    "collapsed": true,
    "deletable": true,
    "editable": true
   },
   "outputs": [],
   "source": [
    "w = widgets.IntSlider(min=0, max=playMaxOfInterval - 1, step=1, value=0)\n",
    "play = widgets.Play(\n",
    "    value=0,\n",
    "    min=0,\n",
    "    max=playMaxOfInterval,\n",
    "    step=1,\n",
    "    description=\"Press play\",\n",
    "    disabled=False\n",
    ")\n",
    "nextButton = widgets.Button(description=\"Next\")\n",
    "previousButton = widgets.Button(description=\"Previous\")\n",
    "\n",
    "def on_nextButton_clicked(x):\n",
    "    if (play.value < play.max):\n",
    "        play.value += 1\n",
    "\n",
    "def on_previousButton_clicked(x):\n",
    "    if (play.value > 0):\n",
    "        play.value -= 1\n",
    "\n",
    "nextButton.on_click(on_nextButton_clicked)\n",
    "previousButton.on_click(on_previousButton_clicked)\n",
    "widgets.jslink((play, 'value'), (w, 'value'))"
   ]
  },
  {
   "cell_type": "code",
   "execution_count": 10,
   "metadata": {
    "collapsed": true,
    "deletable": true,
    "editable": true
   },
   "outputs": [],
   "source": [
    "#region Define function for drawing the whole graph and a single point from the logger\n",
    "def f(iteration_number, cmap):\n",
    "    plt.clf()\n",
    "    plt.close('all')\n",
    "    #plt.figure(iteration)\n",
    "    #fig = plt.figure()\n",
    "    #fig = plt.figure(iteration_number)\n",
    "    plt.figure(iteration_number)\n",
    "    ax = plt.axes(projection='3d')\n",
    "    #ax.contour3D(X1_for_graph, X2_for_graph, Z_for_graph, 50, cmap='Accent')\n",
    "\n",
    "    # Plot fixed graph\n",
    "    ax.contour3D(X1_for_graph, X2_for_graph, Z_for_graph, 50, cmap=cmap)\n",
    "    # plt.plot([-1.9], [2.0], 'b')\n",
    "    ax.set_xlabel('x1')\n",
    "    ax.set_ylabel('x2')\n",
    "    ax.set_zlabel('z')\n",
    "\n",
    "    # Plot single point depending on the iteration\n",
    "    ax.plot([X1_from_logger[iteration_number]], [X2_from_logger[iteration_number]], [Z_from_logger[iteration_number]],\n",
    "            markerfacecolor='k', markeredgecolor='k', marker='o', markersize=5, alpha=1)\n",
    "    #ax.scatter(X1_from_logger, X2_from_logger, Z_from_logger, c='g', marker='^')\n",
    "    plt.show()\n",
    "#endregion"
   ]
  },
  {
   "cell_type": "code",
   "execution_count": 11,
   "metadata": {
    "collapsed": false,
    "deletable": true,
    "editable": true
   },
   "outputs": [
    {
     "data": {
      "text/plain": [
       "\"\\n    'Blues': 'Blues',\\n    'Blues_r': 'Blues_r',\\n    'BrBG' : 'BrBG',\\n    'BrBG_r' : 'BrBG_r',\\n    'BuGn' : 'BuGn',\\n    'BuGn_r' : 'BuGn_r'\\n}\""
      ]
     },
     "execution_count": 11,
     "metadata": {},
     "output_type": "execute_result"
    }
   ],
   "source": [
    "#region Define cmap choices\n",
    "cmap_choices = {\n",
    "    'Accent': 'Accent',\n",
    "    'Accent_r': 'Accent_r'}#,\n",
    "\n",
    "'''\n",
    "    'Blues': 'Blues',\n",
    "    'Blues_r': 'Blues_r',\n",
    "    'BrBG' : 'BrBG',\n",
    "    'BrBG_r' : 'BrBG_r',\n",
    "    'BuGn' : 'BuGn',\n",
    "    'BuGn_r' : 'BuGn_r'\n",
    "}'''\n",
    "#endregion"
   ]
  },
  {
   "cell_type": "code",
   "execution_count": 12,
   "metadata": {
    "collapsed": false,
    "deletable": true,
    "editable": true
   },
   "outputs": [
    {
     "data": {
      "application/vnd.jupyter.widget-view+json": {
       "model_id": "6f2c35d94f2a4e828c9a98ac424a3a41"
      }
     },
     "metadata": {},
     "output_type": "display_data"
    },
    {
     "data": {
      "application/vnd.jupyter.widget-view+json": {
       "model_id": "8eeb3c0bf8d14ae9a1b80ee6a48d68d7"
      }
     },
     "metadata": {},
     "output_type": "display_data"
    },
    {
     "data": {
      "application/vnd.jupyter.widget-view+json": {
       "model_id": "c20b5fba369a451abcfacf74bb06e3d2"
      }
     },
     "metadata": {},
     "output_type": "display_data"
    },
    {
     "data": {
      "application/vnd.jupyter.widget-view+json": {
       "model_id": "4a5bdc35a1dc4a54853faa4cdbe9b255"
      }
     },
     "metadata": {},
     "output_type": "display_data"
    }
   ],
   "source": [
    "#region Call the function interactively\n",
    "interact(f, iteration_number=w, cmap = cmap_choices)\n",
    "#endregion\n",
    "#region Display remaining widgets\n",
    "display(play)\n",
    "display(previousButton)\n",
    "display(nextButton)\n",
    "#endregion"
   ]
  },
  {
   "cell_type": "code",
   "execution_count": null,
   "metadata": {
    "collapsed": true,
    "deletable": true,
    "editable": true
   },
   "outputs": [],
   "source": []
  }
 ],
 "metadata": {
  "kernelspec": {
   "display_name": "Python [conda root]",
   "language": "python",
   "name": "conda-root-py"
  },
  "language_info": {
   "codemirror_mode": {
    "name": "ipython",
    "version": 2
   },
   "file_extension": ".py",
   "mimetype": "text/x-python",
   "name": "python",
   "nbconvert_exporter": "python",
   "pygments_lexer": "ipython2",
   "version": "2.7.12"
  }
 },
 "nbformat": 4,
 "nbformat_minor": 2
}
